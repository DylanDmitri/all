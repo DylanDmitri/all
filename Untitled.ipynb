{
 "cells": [
  {
   "cell_type": "code",
   "execution_count": 21,
   "metadata": {
    "collapsed": false
   },
   "outputs": [],
   "source": [
    "from math import log\n",
    "\n",
    "number = '{:.2f}'.format; money = '${:,.2f}'.format\n",
    "percent = lambda i: '{:.2f}%'.format(i*100)\n",
    "                      \n",
    "def build_functions(**kwargs):  \n",
    "    for name, text in kwargs.items():\n",
    "        globals()['find_'+name] = eval(\n",
    "        \"lambda {0}:print('{3}'{4}) or ('{1}: '+{2}({3}), {3})[num]\".format(\n",
    "            ','.join(k+'=False' for k in (*kwargs, 'num')),\n",
    "            *(s.strip() for s in text.split(';')),\n",
    "            ''.join(\".replace('{0}', str({0}))\".format(k) for k in kwargs)))\n",
    "\n",
    "build_functions(\n",
    "    rate    = \"effective rate;        percent; (end/start)**(1/periods) -1\",\n",
    "    periods = \"accumulatory periods;  number;  log(end/start) / log(1+rate)\",\n",
    "    start   = \"initial investment;    money;   end/(1+rate)**periods\",\n",
    "    end     = \"ending amount;         money;   start * (1+rate)**periods\",\n",
    "    EAR     = \"effective annual rate; percent; (1+rate/periods)**periods -1\"\n",
    ")\n",
    "\n",
    "class CashFlow(list):\n",
    "    def pv(self, rate):\n",
    "        return sum(\n",
    "            amount / (1+rate)**period\n",
    "        for period, amount in enumerate(self))\n",
    "\n",
    "    def fv(self, rate):  # for future value just bring the total forward\n",
    "        return self.pv(rate) * (1+rate)**len(self)"
   ]
  },
  {
   "cell_type": "code",
   "execution_count": 29,
   "metadata": {
    "collapsed": false
   },
   "outputs": [
    {
     "data": {
      "text/plain": [
       "'$913.97'"
      ]
     },
     "execution_count": 29,
     "metadata": {},
     "output_type": "execute_result"
    }
   ],
   "source": [
    "# retirement plan\n",
    "money(CashFlow(\n",
    "        [0]*40 + [25e3]*4\n",
    "    ).pv(rate=0.12))"
   ]
  },
  {
   "cell_type": "code",
   "execution_count": 27,
   "metadata": {
    "collapsed": false
   },
   "outputs": [
    {
     "name": "stdout",
     "output_type": "stream",
     "text": [
      "85045.78170553934/(1+0.12)**39\n"
     ]
    },
    {
     "data": {
      "text/plain": [
       "'initial investment: $1,023.65'"
      ]
     },
     "execution_count": 27,
     "metadata": {},
     "output_type": "execute_result"
    }
   ],
   "source": [
    "# trying retirement again\n",
    "flow = CashFlow([25e3]*4).pv(rate=0.12)\n",
    "find_start(end=flow, periods=39, rate=0.12)"
   ]
  },
  {
   "cell_type": "code",
   "execution_count": 28,
   "metadata": {
    "collapsed": false
   },
   "outputs": [
    {
     "data": {
      "text/plain": [
       "'$23,999.54'"
      ]
     },
     "execution_count": 28,
     "metadata": {},
     "output_type": "execute_result"
    }
   ],
   "source": [
    "# buying the car\n",
    "money(CashFlow([0] + [632]*48).pv(rate=0.01))"
   ]
  },
  {
   "cell_type": "code",
   "execution_count": null,
   "metadata": {
    "collapsed": true
   },
   "outputs": [],
   "source": []
  }
 ],
 "metadata": {
  "anaconda-cloud": {},
  "kernelspec": {
   "display_name": "Python [Root]",
   "language": "python",
   "name": "Python [Root]"
  },
  "language_info": {
   "codemirror_mode": {
    "name": "ipython",
    "version": 3
   },
   "file_extension": ".py",
   "mimetype": "text/x-python",
   "name": "python",
   "nbconvert_exporter": "python",
   "pygments_lexer": "ipython3",
   "version": "3.5.2"
  }
 },
 "nbformat": 4,
 "nbformat_minor": 0
}
