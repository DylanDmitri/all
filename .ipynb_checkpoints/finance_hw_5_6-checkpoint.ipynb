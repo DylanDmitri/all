{
 "cells": [
  {
   "cell_type": "markdown",
   "metadata": {},
   "source": [
    "Chapter 5: 6, 12, 19, 20\n",
    "\n",
    "Chapter 6: 14, 20, 36, 38, 41, 58"
   ]
  },
  {
   "cell_type": "code",
   "execution_count": 182,
   "metadata": {
    "collapsed": false
   },
   "outputs": [],
   "source": [
    "from math import log\n",
    "\n",
    "# some formatters\n",
    "number = '{:.2f}'.format\n",
    "money = '${:.2f}'.format\n",
    "percent = lambda i: '{:.4f}%'.format(i*100)\n",
    "\n",
    "# some meta-programming\n",
    "def build_functions(**kwargs):\n",
    "    for name in kwargs:\n",
    "        label, kind, eq = (s.strip() for s in kwargs[name].split(';'))\n",
    "        globals()['find_'+name] = eval(\n",
    "            'lambda {}: {} if num else \"{}: \" + {}({})'.format(\n",
    "            ','.join(k+'=None' for k in (*kwargs, 'num')), eq, label, kind, eq))"
   ]
  },
  {
   "cell_type": "code",
   "execution_count": 191,
   "metadata": {
    "collapsed": false
   },
   "outputs": [],
   "source": [
    "build_functions(\n",
    "    rate    = \"effective rate;        percent; (end/start)**(1/periods) -1\",\n",
    "    periods = \"accumulatory periods;  number;  log(end/start) / log(1+rate)\",\n",
    "    start   = \"initial investment;    money;   end/(1+rate)**periods\",\n",
    "    end     = \"ending amount;         money;   start * (1+rate)**periods\",\n",
    "    EAR     = \"effective annual rate; percent; (1+rate/periods)**periods -1\"\n",
    ")"
   ]
  },
  {
   "cell_type": "markdown",
   "metadata": {},
   "source": [
    "5.6) **Calculating Future Values** Assume the total cost of a college education will be $320,000 when your child enters college in 18 years. You presently have \\$67,000 to invest. What APR must you earn on your investment to cover the cost of you child's college education?"
   ]
  },
  {
   "cell_type": "code",
   "execution_count": 184,
   "metadata": {
    "collapsed": false
   },
   "outputs": [
    {
     "data": {
      "text/plain": [
       "'effective rate: 9.0753%'"
      ]
     },
     "execution_count": 184,
     "metadata": {},
     "output_type": "execute_result"
    }
   ],
   "source": [
    "find_rate(start=67, end=320, periods=18)"
   ]
  },
  {
   "cell_type": "markdown",
   "metadata": {},
   "source": [
    "5.12) **Calculating Future Values** Your coin collection contains fifty 1952 silver dollars. If your grandparents purchased them for their face value when they were new, how much will your collection be worth when you retire in 2063, assuming they appreciate at an annual rate of 4.3 percent?"
   ]
  },
  {
   "cell_type": "code",
   "execution_count": 185,
   "metadata": {
    "collapsed": false
   },
   "outputs": [
    {
     "data": {
      "text/plain": [
       "'ending amount: $2676.07'"
      ]
     },
     "execution_count": 185,
     "metadata": {},
     "output_type": "execute_result"
    }
   ],
   "source": [
    "find_end(start=50*0.50, periods=2063-1952, rate=0.043)"
   ]
  },
  {
   "cell_type": "markdown",
   "metadata": {},
   "source": [
    "5.19) **Calculating Future Values** You are scheduled to receive $20,000 in two years. When you receive it, you will invest it for six more years at 7.3 percent per year. How much will you have have eight years?"
   ]
  },
  {
   "cell_type": "code",
   "execution_count": 171,
   "metadata": {
    "collapsed": false
   },
   "outputs": [
    {
     "data": {
      "text/plain": [
       "'ending amount: $30523.08'"
      ]
     },
     "execution_count": 171,
     "metadata": {},
     "output_type": "execute_result"
    }
   ],
   "source": [
    "find_end(start=20000, periods=6, rate=0.073)"
   ]
  },
  {
   "cell_type": "markdown",
   "metadata": {},
   "source": [
    "5.20) **Calculating Number of Periods** You expect to receive \\$15000 at graduation in two years. You plan on investing it at 9 percent until you have \\$75000. How long will you wait from now?"
   ]
  },
  {
   "cell_type": "code",
   "execution_count": 192,
   "metadata": {
    "collapsed": false
   },
   "outputs": [
    {
     "data": {
      "text/plain": [
       "'accumulatory periods: 18.68'"
      ]
     },
     "execution_count": 192,
     "metadata": {},
     "output_type": "execute_result"
    }
   ],
   "source": [
    "find_periods(start=15000, rate=0.09, end=75000)"
   ]
  },
  {
   "cell_type": "markdown",
   "metadata": {},
   "source": [
    "You will have to wait about 19 years."
   ]
  },
  {
   "cell_type": "markdown",
   "metadata": {},
   "source": [
    "6.14) **Calculating EAR** First National Bank charges 12.4 percent compounded monthly on its business loans. First United Bank charges 12.7 percent compounded semiannually. As a potential borrower, which bank would you go to for a new loan?"
   ]
  },
  {
   "cell_type": "code",
   "execution_count": 174,
   "metadata": {
    "collapsed": false
   },
   "outputs": [
    {
     "data": {
      "text/plain": [
       "'effective annual rate: 13.1296%'"
      ]
     },
     "execution_count": 174,
     "metadata": {},
     "output_type": "execute_result"
    }
   ],
   "source": [
    "# First National\n",
    "interest.find_EAR(rate=0.124, periods=12)"
   ]
  },
  {
   "cell_type": "code",
   "execution_count": 187,
   "metadata": {
    "collapsed": false
   },
   "outputs": [
    {
     "data": {
      "text/plain": [
       "'effective annual rate: 13.1032%'"
      ]
     },
     "execution_count": 187,
     "metadata": {},
     "output_type": "execute_result"
    }
   ],
   "source": [
    "# First United\n",
    "find_EAR(rate=0.127, periods=2)"
   ]
  },
  {
   "cell_type": "markdown",
   "metadata": {},
   "source": [
    "For \\$100 of loans, First National charges \\$13.13 in interest, while First United would only charge \\$13.10.\n",
    "As a potential borrower, I would go to First United for a new loan."
   ]
  },
  {
   "cell_type": "markdown",
   "metadata": {},
   "source": [
    "6.20 **Calculating Loan Payments** You want to buy a new sports coupe for \\$79500, and the finance office quotes you an APR of 5.8 percent for a 60-month loan. What will your monthly payments be? What is the effective annual rate on this loan?"
   ]
  },
  {
   "cell_type": "code",
   "execution_count": 188,
   "metadata": {
    "collapsed": false
   },
   "outputs": [
    {
     "data": {
      "text/plain": [
       "'effective annual rate: 5.9567%'"
      ]
     },
     "execution_count": 188,
     "metadata": {},
     "output_type": "execute_result"
    }
   ],
   "source": [
    "find_EAR(rate=0.058, periods=12)"
   ]
  },
  {
   "cell_type": "code",
   "execution_count": 194,
   "metadata": {
    "collapsed": false,
    "scrolled": true
   },
   "outputs": [
    {
     "data": {
      "text/plain": [
       "'monthly_payment: $1769.53'"
      ]
     },
     "execution_count": 194,
     "metadata": {},
     "output_type": "execute_result"
    }
   ],
   "source": [
    "total = find_end(rate=0.058/12, periods=60, start=79500, num=True)\n",
    "'monthly_payment: ' + money(total / 60)"
   ]
  },
  {
   "cell_type": "code",
   "execution_count": 204,
   "metadata": {
    "collapsed": true
   },
   "outputs": [],
   "source": [
    "class CashFlow(list):\n",
    "    def current_value(self, rate):\n",
    "        return sum(val * (1+rate)**n\n",
    "                  for n, val in enumerate(self))"
   ]
  },
  {
   "cell_type": "markdown",
   "metadata": {},
   "source": [
    "6.36 **Comparing Cash Flow Streams** You've just joined the investment banking firm of Howe, Dewey, and Cheatum. They've offered two salary options, with equal payments at the end of each month. Interest is 7% compounded monthly.\n",
    "\n",
    " - 75k per year for the next two years\n",
    " - 64k per year for the next two years, and 20k now"
   ]
  },
  {
   "cell_type": "code",
   "execution_count": 208,
   "metadata": {
    "collapsed": false
   },
   "outputs": [
    {
     "data": {
      "text/plain": [
       "'$161.44'"
      ]
     },
     "execution_count": 208,
     "metadata": {},
     "output_type": "execute_result"
    }
   ],
   "source": [
    "# option 1, in thousands of dollars\n",
    "'${:.}'.format(CashFlow([0] + [75/12]*24).current_value(rate=0.07/12))"
   ]
  },
  {
   "cell_type": "code",
   "execution_count": 210,
   "metadata": {
    "collapsed": false
   },
   "outputs": [
    {
     "data": {
      "text/plain": [
       "'$157.76'"
      ]
     },
     "execution_count": 210,
     "metadata": {},
     "output_type": "execute_result"
    }
   ],
   "source": [
    "# option 2, in thousands of dollars\n",
    "money(CashFlow([20] + [64/12]*24).current_value(rate=0.07/12))"
   ]
  }
 ],
 "metadata": {
  "anaconda-cloud": {},
  "kernelspec": {
   "display_name": "Python [Root]",
   "language": "python",
   "name": "Python [Root]"
  },
  "language_info": {
   "codemirror_mode": {
    "name": "ipython",
    "version": 3
   },
   "file_extension": ".py",
   "mimetype": "text/x-python",
   "name": "python",
   "nbconvert_exporter": "python",
   "pygments_lexer": "ipython3",
   "version": "3.5.2"
  }
 },
 "nbformat": 4,
 "nbformat_minor": 0
}
