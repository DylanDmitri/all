{
 "cells": [
  {
   "cell_type": "markdown",
   "metadata": {},
   "source": [
    "# hw 5 &6\n",
    "# Dylan Gray"
   ]
  },
  {
   "cell_type": "code",
   "execution_count": 1,
   "metadata": {
    "collapsed": false
   },
   "outputs": [],
   "source": [
    "# natural log function\n",
    "from math import log\n",
    "\n",
    "# some formatters\n",
    "number = '{:.2f}'.format; money = '${:,.2f}'.format\n",
    "percent = lambda i: '{:.2f}%'.format(i*100)\n",
    "\n",
    "# some spicy meta-programming                       \n",
    "def build_functions(**kwargs):  \n",
    "    for name, text in kwargs.items():\n",
    "        globals()['find_'+name] = eval(\n",
    "        \"lambda {0}:print('{3}'{4}) or ('{1}: '+{2}({3}), {3})[num]\".format(\n",
    "            ','.join(k+'=False' for k in (*kwargs, 'num')),\n",
    "            *(s.strip() for s in text.split(';')),\n",
    "            ''.join(\".replace('{0}', str({0}))\".format(k) for k in kwargs)))\n",
    "\n",
    "# a handful of functions\n",
    "build_functions(\n",
    "    rate    = \"effective rate;        percent; (end/start)**(1/periods) -1\",\n",
    "    periods = \"accumulatory periods;  number;  log(end/start) / log(1+rate)\",\n",
    "    start   = \"initial investment;    money;   end/(1+rate)**periods\",\n",
    "    end     = \"ending amount;         money;   start * (1+rate)**periods\",\n",
    "    EAR     = \"effective annual rate; percent; (1+rate/periods)**periods -1\",\n",
    ")\n",
    "\n",
    "clas"
   ]
  },
  {
   "cell_type": "markdown",
   "metadata": {},
   "source": [
    "5.6) **Calculating Future Values** Assume the total cost of a college education will be \\$320,000 when your child enters college in 18 years. You presently have \\$67,000 to invest. What APR must you earn on your investment to cover the cost of you child's college education?"
   ]
  },
  {
   "cell_type": "code",
   "execution_count": 2,
   "metadata": {
    "collapsed": false
   },
   "outputs": [
    {
     "name": "stdout",
     "output_type": "stream",
     "text": [
      "(320/67)**(1/18) -1\n"
     ]
    },
    {
     "data": {
      "text/plain": [
       "'effective rate: 9.08%'"
      ]
     },
     "execution_count": 2,
     "metadata": {},
     "output_type": "execute_result"
    }
   ],
   "source": [
    "find_rate(start=67, end=320, periods=18)"
   ]
  },
  {
   "cell_type": "markdown",
   "metadata": {},
   "source": [
    "5.12) **Calculating Future Values** Your coin collection contains fifty 1952 silver dollars. If your grandparents purchased them for their face value when they were new, how much will your collection be worth when you retire in 2063, assuming they appreciate at an annual rate of 4.3 percent?"
   ]
  },
  {
   "cell_type": "code",
   "execution_count": 3,
   "metadata": {
    "collapsed": false
   },
   "outputs": [
    {
     "name": "stdout",
     "output_type": "stream",
     "text": [
      "50 * (1+0.043)**111\n"
     ]
    },
    {
     "data": {
      "text/plain": [
       "'ending amount: $5,352.15'"
      ]
     },
     "execution_count": 3,
     "metadata": {},
     "output_type": "execute_result"
    }
   ],
   "source": [
    "find_end(start=50, periods=2063-1952, rate=0.043)"
   ]
  },
  {
   "cell_type": "markdown",
   "metadata": {},
   "source": [
    "5.19) **Calculating Future Values** You are scheduled to receive $20,000 in two years. When you receive it, you will invest it for six more years at 7.3 percent per year. How much will you have have eight years?"
   ]
  },
  {
   "cell_type": "code",
   "execution_count": 4,
   "metadata": {
    "collapsed": false
   },
   "outputs": [
    {
     "name": "stdout",
     "output_type": "stream",
     "text": [
      "20000 * (1+0.073)**6\n"
     ]
    },
    {
     "data": {
      "text/plain": [
       "'ending amount: $30,523.08'"
      ]
     },
     "execution_count": 4,
     "metadata": {},
     "output_type": "execute_result"
    }
   ],
   "source": [
    "find_end(start=20000, periods=6, rate=0.073)"
   ]
  },
  {
   "cell_type": "markdown",
   "metadata": {},
   "source": [
    "5.20) **Calculating Number of Periods** You expect to receive \\$15000 at graduation in two years. You plan on investing it at 9 percent until you have \\$75000. How long will you wait from now?"
   ]
  },
  {
   "cell_type": "code",
   "execution_count": 5,
   "metadata": {
    "collapsed": false
   },
   "outputs": [
    {
     "name": "stdout",
     "output_type": "stream",
     "text": [
      "log(75000/15000) / log(1+0.09)\n"
     ]
    },
    {
     "data": {
      "text/plain": [
       "'accumulatory periods: 18.68'"
      ]
     },
     "execution_count": 5,
     "metadata": {},
     "output_type": "execute_result"
    }
   ],
   "source": [
    "find_periods(start=15000, rate=0.09, end=75000)"
   ]
  },
  {
   "cell_type": "markdown",
   "metadata": {},
   "source": [
    "Adding the two extra years, you will have to wait about 20.7 years."
   ]
  },
  {
   "cell_type": "markdown",
   "metadata": {},
   "source": [
    "6.14) **Calculating EAR** First National Bank charges 12.4 percent compounded monthly on its business loans. First United Bank charges 12.7 percent compounded semiannually. As a potential borrower, which bank would you go to for a new loan?"
   ]
  },
  {
   "cell_type": "code",
   "execution_count": 6,
   "metadata": {
    "collapsed": false
   },
   "outputs": [
    {
     "name": "stdout",
     "output_type": "stream",
     "text": [
      "(1+0.124/12)**12 -1\n"
     ]
    },
    {
     "data": {
      "text/plain": [
       "'effective annual rate: 13.13%'"
      ]
     },
     "execution_count": 6,
     "metadata": {},
     "output_type": "execute_result"
    }
   ],
   "source": [
    "# First National\n",
    "find_EAR(rate=0.124, periods=12)"
   ]
  },
  {
   "cell_type": "code",
   "execution_count": 7,
   "metadata": {
    "collapsed": false
   },
   "outputs": [
    {
     "name": "stdout",
     "output_type": "stream",
     "text": [
      "(1+0.127/2)**2 -1\n"
     ]
    },
    {
     "data": {
      "text/plain": [
       "'effective annual rate: 13.10%'"
      ]
     },
     "execution_count": 7,
     "metadata": {},
     "output_type": "execute_result"
    }
   ],
   "source": [
    "# First United\n",
    "find_EAR(rate=0.127, periods=2)"
   ]
  },
  {
   "cell_type": "markdown",
   "metadata": {},
   "source": [
    "For \\$100 of loans, First National charges \\$13.13 in interest, while First United would only charge \\$13.10.\n",
    "As a potential borrower, I would go to First United for a new loan."
   ]
  },
  {
   "cell_type": "markdown",
   "metadata": {},
   "source": [
    "6.20 **Calculating Loan Payments** You want to buy a new sports coupe for \\$79500, and the finance office quotes you an APR of 5.8 percent for a 60-month loan. What will your monthly payments be? What is the effective annual rate on this loan?"
   ]
  },
  {
   "cell_type": "code",
   "execution_count": 8,
   "metadata": {
    "collapsed": false,
    "scrolled": true
   },
   "outputs": [
    {
     "data": {
      "text/plain": [
       "'monthly_payment: $1,529.58'"
      ]
     },
     "execution_count": 8,
     "metadata": {},
     "output_type": "execute_result"
    }
   ],
   "source": [
    "pv = 79500\n",
    "rate = 0.058 / 12\n",
    "periods = 60\n",
    "payment = (rate * pv) / (1- (1+rate)**(-periods))\n",
    "'monthly_payment: ' + money(payment)"
   ]
  },
  {
   "cell_type": "code",
   "execution_count": 9,
   "metadata": {
    "collapsed": false
   },
   "outputs": [
    {
     "name": "stdout",
     "output_type": "stream",
     "text": [
      "(1+0.058/12)**12 -1\n"
     ]
    },
    {
     "data": {
      "text/plain": [
       "'effective annual rate: 5.96%'"
      ]
     },
     "execution_count": 9,
     "metadata": {},
     "output_type": "execute_result"
    }
   ],
   "source": [
    "find_EAR(rate=0.058, periods=12)"
   ]
  },
  {
   "cell_type": "markdown",
   "metadata": {},
   "source": [
    "6.36 **Comparing Cash Flow Streams** You've just joined the investment banking firm of Howe, Dewey, and Cheatum. They've offered two salary options, with payments at the end of each month. Interest is 7% compounded monthly.\n",
    "\n",
    " - 75k per year for the next two years\n",
    " - 64k per year for the next two years, and 20k now"
   ]
  },
  {
   "cell_type": "code",
   "execution_count": 10,
   "metadata": {
    "collapsed": false
   },
   "outputs": [
    {
     "data": {
      "text/plain": [
       "'$160,506.45'"
      ]
     },
     "execution_count": 10,
     "metadata": {},
     "output_type": "execute_result"
    }
   ],
   "source": [
    "n = 24\n",
    "r = 0.07 / 12\n",
    "p = 75e3 / 12\n",
    "\n",
    "# annuity formula\n",
    "total = p * ((1+r)**n - 1) / r\n",
    "    \n",
    "money(total)"
   ]
  },
  {
   "cell_type": "code",
   "execution_count": 11,
   "metadata": {
    "collapsed": false
   },
   "outputs": [
    {
     "data": {
      "text/plain": [
       "'$159,961.62'"
      ]
     },
     "execution_count": 11,
     "metadata": {},
     "output_type": "execute_result"
    }
   ],
   "source": [
    "n = 24\n",
    "r = 0.07 / 12\n",
    "p = 64e3 / 12\n",
    "\n",
    "# annuity formula\n",
    "total = p * ((1+r)**n - 1) / r\n",
    "\n",
    "# add fv of initial bonus\n",
    "total += 20e3 * (1+r)**n\n",
    "\n",
    "money(total)"
   ]
  },
  {
   "cell_type": "markdown",
   "metadata": {},
   "source": [
    "You are better off taking the \\$75,000 per year for two years."
   ]
  },
  {
   "cell_type": "markdown",
   "metadata": {},
   "source": [
    "6.38) **Growing Annuity** One year from today you will begin depositing 9 percent of your annual salary in an account that will earn 10 percent per year. Your salary is $50k this year and will increase at 3 percent per year throughout your career. How much money will you have 40 years from today?"
   ]
  },
  {
   "cell_type": "code",
   "execution_count": 12,
   "metadata": {
    "collapsed": false
   },
   "outputs": [
    {
     "data": {
      "text/plain": [
       "'$2,514,669.64'"
      ]
     },
     "execution_count": 12,
     "metadata": {},
     "output_type": "execute_result"
    }
   ],
   "source": [
    "total = 0\n",
    "\n",
    "for year in range(1, 40): \n",
    "    total *= 1.1\n",
    "    salary = 50e3 * (1.03**year)\n",
    "    total += 0.09 * salary\n",
    "\n",
    "money(total)"
   ]
  },
  {
   "cell_type": "markdown",
   "metadata": {},
   "source": [
    "6.41) **Calculating Annuity Present Values** You want to borrow \\$89000 to buy a new boat. You can make monthly payments of \\$1850, but no more. Assuming monthly compounding, what's the highest APR you can afford on a 60-month loan?"
   ]
  },
  {
   "cell_type": "code",
   "execution_count": 17,
   "metadata": {
    "collapsed": false
   },
   "outputs": [
    {
     "name": "stdout",
     "output_type": "stream",
     "text": [
      "APR of 9.0580022% gives pv of $89,000.00\n"
     ]
    }
   ],
   "source": [
    "class CashFlow(list):\n",
    "    def pv(self, rate):\n",
    "        return sum( val / (1+rate)**n\n",
    "            for n, val in enumerate(self))\n",
    "    \n",
    "payments = CashFlow([0]+[1850]*60)\n",
    "\n",
    "# derivative does not change signs, so binary search works\n",
    "search_precision = 3000\n",
    "upper_bound = 1\n",
    "lower_bound = 0\n",
    "for i in range(search_precision):\n",
    "    APR = (upper_bound+lower_bound)/2\n",
    "    pv = payments.pv(rate=APR/12)\n",
    "    \n",
    "    if pv < 89e3:\n",
    "        upper_bound = APR\n",
    "    else:\n",
    "        lower_bound = APR\n",
    "\n",
    "print('APR of', '{:.7f}%'.format(100*APR), 'gives pv of', money(pv))"
   ]
  },
  {
   "cell_type": "markdown",
   "metadata": {},
   "source": [
    "6.58) **Calculating Annuity Values** You are considering either leasing or buying a car. The car costs \\$32,000. A lease has an initial fee of \\$1200, with monthly payments of \\$469 for three years. APR at 6 percent. Which option should you take? What's the breakeven selling price of the car?"
   ]
  },
  {
   "cell_type": "code",
   "execution_count": 18,
   "metadata": {
    "collapsed": false,
    "scrolled": true
   },
   "outputs": [
    {
     "name": "stdout",
     "output_type": "stream",
     "text": [
      "leasing cost fv: $19,884.65\n",
      "buying cost fv: $19,293.78\n"
     ]
    }
   ],
   "source": [
    "# one payment of 1200, then 36 payments of 469, at .5% per period\n",
    "lease_fv = 1200\n",
    "for month in range(36):\n",
    "    lease_fv *= 1.005\n",
    "    lease_fv += 469\n",
    "\n",
    "# and for the buying option\n",
    "pv = 32000\n",
    "rate = 0.06 / 12\n",
    "periods = 36\n",
    "payment = (rate * pv) / (1- (1+rate)**(-periods))\n",
    "\n",
    "buy_fv = 0\n",
    "for month in range(36):\n",
    "    buy_fv *= 1.005\n",
    "    buy_fv += payment\n",
    "\n",
    "net_buy_fv = buy_fv - 19e3  # sell price\n",
    "\n",
    "print('leasing cost fv:', money(lease_fv))\n",
    "print('buying cost fv:', money(net_buy_fv))"
   ]
  },
  {
   "cell_type": "markdown",
   "metadata": {},
   "source": [
    "You would be better off buying than renting."
   ]
  },
  {
   "cell_type": "code",
   "execution_count": 19,
   "metadata": {
    "collapsed": false,
    "scrolled": false
   },
   "outputs": [
    {
     "name": "stdout",
     "output_type": "stream",
     "text": [
      "breakeven selling price: $18,409.13\n"
     ]
    }
   ],
   "source": [
    "print('breakeven selling price:', money(buy_fv - lease_fv))"
   ]
  }
 ],
 "metadata": {
  "anaconda-cloud": {},
  "kernelspec": {
   "display_name": "Python [Root]",
   "language": "python",
   "name": "Python [Root]"
  },
  "language_info": {
   "codemirror_mode": {
    "name": "ipython",
    "version": 3
   },
   "file_extension": ".py",
   "mimetype": "text/x-python",
   "name": "python",
   "nbconvert_exporter": "python",
   "pygments_lexer": "ipython3",
   "version": "3.5.2"
  }
 },
 "nbformat": 4,
 "nbformat_minor": 0
}
