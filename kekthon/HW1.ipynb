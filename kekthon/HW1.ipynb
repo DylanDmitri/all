{
 "cells": [
  {
   "cell_type": "code",
   "execution_count": 1,
   "metadata": {
    "collapsed": true
   },
   "outputs": [],
   "source": [
    "import pandas as pd"
   ]
  },
  {
   "cell_type": "markdown",
   "metadata": {},
   "source": [
    "### problem 1"
   ]
  },
  {
   "cell_type": "code",
   "execution_count": 6,
   "metadata": {},
   "outputs": [
    {
     "name": "stdout",
     "output_type": "stream",
     "text": [
      "['.android', '.astropy', '.bash_aliases', '.bash_history', '.bash_profile', '.bash_profile-anaconda3.bak', '.bash_profile.pysave', '.bash_sessions', '.cache', '.CFUserTextEncoding', '.config', '.continuum', '.cups', '.DS_Store', '.emacs-live.el', '.emacs-old.el', '.emacs.d', '.emacs.el.save', '.ghc', '.gitconfig', '.hy-history', '.IdentityService', '.idlerc', '.ipynb_checkpoints', '.ipython', '.jssc', '.jupyter', '.keras', '.lesshst', '.live-packs', '.local', '.LUFTRAUSERS', '.matplotlib', '.mono', '.nuget', '.oracle_jre_usage', '.p2', '.pip', '.plotly', '.PyCharm40', '.python_history', '.RData', '.Rhistory', '.rstudio-desktop', '.ServiceHub', '.slime', '.slime-history.eld', '.smex-items', '.sqlite_history', '.ssh', '.subversion', '.swo', '.swp', '.templateengine', '.tooling', '.Trash', '.vim', '.viminfo', '.vscode', '.WebIde100', '0', 'anaconda3', 'Applications', 'Desktop', 'Documents', 'Downloads', 'finance portfolio.ipynb', 'git', 'IdeaProjects', 'Jupyter', 'Library', 'Movies', 'Music', 'Pictures', 'Projects', 'Public', 'PycharmProjects', 'RAIK383', 'tropiceuro', 'Untitled.ipynb', 'Untitled1.ipynb', 'week 4 r']\n"
     ]
    }
   ],
   "source": [
    "from os import listdir\n",
    "\n",
    "print(listdir('.'))\n",
    "\n",
    "# data = pd.read_csv('framingham.csv.txt')"
   ]
  },
  {
   "cell_type": "code",
   "execution_count": null,
   "metadata": {},
   "outputs": [],
   "source": [
    "memes dude\n",
    "alright ehere we go"
   ]
  }
 ],
 "metadata": {
  "kernelspec": {
   "display_name": "Python 2",
   "language": "python",
   "name": "python2"
  },
  "language_info": {
   "codemirror_mode": {
    "name": "ipython",
    "version": 2.0
   },
   "file_extension": ".py",
   "mimetype": "text/x-python",
   "name": "python",
   "nbconvert_exporter": "python",
   "pygments_lexer": "ipython2",
   "version": "2.7.6"
  }
 },
 "nbformat": 4,
 "nbformat_minor": 0
}